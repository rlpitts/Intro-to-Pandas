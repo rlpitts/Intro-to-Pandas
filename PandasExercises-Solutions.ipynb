{
 "cells": [
  {
   "cell_type": "markdown",
   "id": "116d23c5-7218-45de-8b44-44ef6190860b",
   "metadata": {},
   "source": [
    "# Pandas Exercises\n",
    "Here you can test your comprehension of the Pandas introductory material. Most questions will be code, but a couple will be multiple-choice or fill-in-the-blank type questions. As with most coding packages, it is more important that you understand enough to know what to look for if you get stuck than it is to actually memorize all the methods, attributes, and syntax. You are welcome to consult my overview and/or the [official documentation](https://pandas.pydata.org/docs/user_guide/10min.html) whenever you need to.\n",
    "\n",
    "I did try to keep these in order of the lecture material, but I rearranged some of the lecture sections several times and they don't divide up very neatly with a semi-realistic workflow. Just do what you can figure out how to do with the time you have, bring your questions to the exercise sessions, and if you've come to something I haven't covered yet, I or the other TAs will let you know to wait until after the next lecture.\n",
    "\n",
    "### Basics\n",
    "\n",
    "1. **Start by importing Pandas and NumPy** (to make sure you have the right modules loaded):"
   ]
  },
  {
   "cell_type": "code",
   "execution_count": 5,
   "id": "4e543e9c-d925-4f70-9869-e1c2813dd85d",
   "metadata": {
    "editable": true,
    "slideshow": {
     "slide_type": ""
    },
    "tags": []
   },
   "outputs": [],
   "source": [
    "import pandas as pd\n",
    "import numpy as np"
   ]
  },
  {
   "cell_type": "markdown",
   "id": "fb0ba037-80f1-46df-8b9f-ec75206bd1f0",
   "metadata": {
    "editable": true,
    "slideshow": {
     "slide_type": ""
    },
    "tags": []
   },
   "source": [
    "\n",
    "2. **Use the NumPy array $a$ in the following cell to create a Series $ser$ with indexes labeled 1-10.**"
   ]
  },
  {
   "cell_type": "code",
   "execution_count": 9,
   "id": "70e74969-2e9d-46fa-a60b-c5f9c9f130ee",
   "metadata": {
    "editable": true,
    "slideshow": {
     "slide_type": ""
    },
    "tags": []
   },
   "outputs": [
    {
     "name": "stdout",
     "output_type": "stream",
     "text": [
      "1     0.000000\n",
      "2     0.698132\n",
      "3     1.396263\n",
      "4     2.094395\n",
      "5     2.792527\n",
      "6     3.490659\n",
      "7     4.188790\n",
      "8     4.886922\n",
      "9     5.585054\n",
      "10    6.283185\n",
      "dtype: float64\n"
     ]
    }
   ],
   "source": [
    "a = np.linspace(0,2*np.pi,10)\n",
    "ser = pd.Series(a, index=np.arange(1,11))\n",
    "print(ser)"
   ]
  },
  {
   "cell_type": "markdown",
   "id": "2e71e112-82c0-4261-8fc0-0024aef7b32d",
   "metadata": {
    "editable": true,
    "slideshow": {
     "slide_type": ""
    },
    "tags": []
   },
   "source": [
    "3. **Initialize an integer DataFrame based on the XKCD comic below. Label and align the rows and columns such that the printed DataFrame has the same orientation as the figure. Use `1` to represent situations where the tool listed on the left is appropriate (green squares, or lighter squares if you're red-green colorblind) and `0` for situations where the tool is not helpful (red or darker squares).** If you're feeling creative, you can also insert `-1` for situations where you think the tool to bring will actively make the problem worse.\n",
    "\n",
    "    ![](https://imgs.xkcd.com/comics/what_to_bring.png)\n",
    "    "
   ]
  },
  {
   "cell_type": "code",
   "execution_count": 8,
   "id": "79c7ba4c-be69-4790-a995-29b7e1ea7edc",
   "metadata": {},
   "outputs": [
    {
     "name": "stdout",
     "output_type": "stream",
     "text": [
      "       knife_fight  gun_fight  wood_fire  oil_fire\n",
      "knife            1         -1          0         0\n",
      "gun              1          1         -1        -1\n",
      "water            0          0          1        -1\n",
      "lid              0          0          0         1\n"
     ]
    }
   ],
   "source": [
    "df = pd.DataFrame(np.identity(4, dtype=int),\n",
    "                  columns = ['knife_fight', 'gun_fight', 'wood_fire', 'oil_fire'],\n",
    "                  index = ['knife', 'gun', 'water', 'lid'])\n",
    "df.loc['gun','knife_fight'] = 1\n",
    "df.loc['knife','gun_fight'] = -1\n",
    "df.loc['gun',['wood_fire','oil_fire']] = -1\n",
    "df.loc['water','oil_fire'] = -1\n",
    "print(df)"
   ]
  },
  {
   "cell_type": "markdown",
   "id": "7ff04023-fc6b-415f-a7c1-6d00910aaa7d",
   "metadata": {
    "editable": true,
    "slideshow": {
     "slide_type": ""
    },
    "tags": []
   },
   "source": [
    "4. **Now we're going to expand the whole table by 1 row and 1 column:**\n",
    "\n",
    "    a. First, the easy part: add the column 'electrical_fire'. Now, where there are electrical fires, there are typically live wires that pose an electrocution hazard. All of the tools present on the table can only increase your risk of electrocution, so feel free to fill the column with -1.\n",
    "    \n",
    "    b. Next is the slightly trickier part: add a row with index label 'CO2', as in CO2 extinguisher. In this row, all the columns containing 'fire' should contain 1's. The columns containing 'fight' could contain either 0's or 1's depending on how you feel about your odds of escaping in the cloud of CO2 and condensation. Remember that you can use array slice notation in .iloc[], and in .loc[] as long as you don't put strings directly on either side of the colon (:). "
   ]
  },
  {
   "cell_type": "code",
   "execution_count": 10,
   "id": "e7e1a754-7eb4-44e8-8c3a-ef0a05ee969f",
   "metadata": {
    "editable": true,
    "slideshow": {
     "slide_type": ""
    },
    "tags": []
   },
   "outputs": [
    {
     "name": "stdout",
     "output_type": "stream",
     "text": [
      "       knife_fight  gun_fight  wood_fire  oil_fire  electrical_fire\n",
      "knife            1         -1          0         0               -1\n",
      "gun              1          1         -1        -1               -1\n",
      "water            0          0          1        -1               -1\n",
      "lid              0          0          0         1               -1\n"
     ]
    }
   ],
   "source": [
    "# a.\n",
    "df['electrical_fire'] = -1*np.ones(4, dtype=int)\n",
    "print(df)"
   ]
  },
  {
   "cell_type": "code",
   "execution_count": 11,
   "id": "d738b850-8ef6-4a44-9dc5-c6ce7745c884",
   "metadata": {},
   "outputs": [
    {
     "name": "stdout",
     "output_type": "stream",
     "text": [
      "       knife_fight  gun_fight  wood_fire  oil_fire  electrical_fire\n",
      "knife            1         -1          0         0               -1\n",
      "gun              1          1         -1        -1               -1\n",
      "water            0          0          1        -1               -1\n",
      "lid              0          0          0         1               -1\n",
      "CO2              0          0          1         1                1\n"
     ]
    }
   ],
   "source": [
    "# b.\n",
    "df.loc['CO2', :] = [0,0,1,1,1]\n",
    "print(df.astype(int))"
   ]
  },
  {
   "cell_type": "markdown",
   "id": "ea2d491d-657a-44c3-a6ae-584829e3042b",
   "metadata": {
    "editable": true,
    "slideshow": {
     "slide_type": ""
    },
    "tags": []
   },
   "source": [
    "5. **Which one of the following selection syntaxes should NOT be used for a DataFrame `df` with columns labeled 'A' through 'D' and rows indexed 0 through 4?** (Hint: \"should NOT be used\" does not necessarily mean such input would always raise an error - in fact the problem is that it may fail to raise an exception when you need it to.)\n",
    "   \n",
    "    a. `df.loc[df.index < 3, 'A']`\n",
    "\n",
    "    **b. `df.iloc[2]['B']` <-- this one**\n",
    "\n",
    "    c. `df.iloc[3,1]`\n",
    "\n",
    "    d. `df['D']`"
   ]
  },
  {
   "cell_type": "markdown",
   "id": "0eb3d974-9144-49b9-ba33-fdbb3d596ec3",
   "metadata": {
    "editable": true,
    "slideshow": {
     "slide_type": ""
    },
    "tags": []
   },
   "source": [
    "### Loading and Inspecting Real Data\n",
    "\n",
    "6. **Load the file `covid19_italy_region.csv` into a DataFrame called `it_covid19`. Use the appropriate kwargs to set the leftmost column as the row indexes.** You may refer to official documentation on file readers as needed."
   ]
  },
  {
   "cell_type": "code",
   "execution_count": 40,
   "id": "16f88ae5-8bc5-4f79-8628-48d232317c9e",
   "metadata": {
    "editable": true,
    "slideshow": {
     "slide_type": ""
    },
    "tags": []
   },
   "outputs": [],
   "source": [
    "it_covid19 = pd.read_csv('covid19_italy_region.csv', index_col=0)"
   ]
  },
  {
   "cell_type": "markdown",
   "id": "d5ba6220-bc7f-4cfe-ac34-d2ce5914296d",
   "metadata": {},
   "source": [
    "7. **Inspect `it_covid19` by printing the following (hint: each prompt requires a different 1-word command):**\n",
    "   \n",
    "    a. The first 5 rows of the DataFrame\n",
    "   \n",
    "    b. A table listing the column names and the number of non-null entries in each column\n",
    "\n",
    "    c. The number of unique values in each column\n",
    "\n",
    "    d. A table of summary statistics for the numeric columns (mean, standard deviation, min, max, etc.). Bonus challenge: if you can figure out how to exclude columns of dates, region codes, and coordinates, that will make the output easier to read."
   ]
  },
  {
   "cell_type": "code",
   "execution_count": 16,
   "id": "7646370e-d003-428a-ba8d-8ef4e3ac1c33",
   "metadata": {},
   "outputs": [
    {
     "data": {
      "text/html": [
       "<div>\n",
       "<style scoped>\n",
       "    .dataframe tbody tr th:only-of-type {\n",
       "        vertical-align: middle;\n",
       "    }\n",
       "\n",
       "    .dataframe tbody tr th {\n",
       "        vertical-align: top;\n",
       "    }\n",
       "\n",
       "    .dataframe thead th {\n",
       "        text-align: right;\n",
       "    }\n",
       "</style>\n",
       "<table border=\"1\" class=\"dataframe\">\n",
       "  <thead>\n",
       "    <tr style=\"text-align: right;\">\n",
       "      <th></th>\n",
       "      <th>Date</th>\n",
       "      <th>Country</th>\n",
       "      <th>RegionCode</th>\n",
       "      <th>RegionName</th>\n",
       "      <th>Latitude</th>\n",
       "      <th>Longitude</th>\n",
       "      <th>HospitalizedPatients</th>\n",
       "      <th>IntensiveCarePatients</th>\n",
       "      <th>TotalHospitalizedPatients</th>\n",
       "      <th>HomeConfinement</th>\n",
       "      <th>CurrentPositiveCases</th>\n",
       "      <th>NewPositiveCases</th>\n",
       "      <th>Recovered</th>\n",
       "      <th>Deaths</th>\n",
       "      <th>TotalPositiveCases</th>\n",
       "      <th>TestsPerformed</th>\n",
       "    </tr>\n",
       "    <tr>\n",
       "      <th>SNo</th>\n",
       "      <th></th>\n",
       "      <th></th>\n",
       "      <th></th>\n",
       "      <th></th>\n",
       "      <th></th>\n",
       "      <th></th>\n",
       "      <th></th>\n",
       "      <th></th>\n",
       "      <th></th>\n",
       "      <th></th>\n",
       "      <th></th>\n",
       "      <th></th>\n",
       "      <th></th>\n",
       "      <th></th>\n",
       "      <th></th>\n",
       "      <th></th>\n",
       "    </tr>\n",
       "  </thead>\n",
       "  <tbody>\n",
       "    <tr>\n",
       "      <th>0</th>\n",
       "      <td>2020-02-24T18:00:00</td>\n",
       "      <td>ITA</td>\n",
       "      <td>13</td>\n",
       "      <td>Abruzzo</td>\n",
       "      <td>42.351222</td>\n",
       "      <td>13.398438</td>\n",
       "      <td>0</td>\n",
       "      <td>0</td>\n",
       "      <td>0</td>\n",
       "      <td>0</td>\n",
       "      <td>0</td>\n",
       "      <td>0</td>\n",
       "      <td>0</td>\n",
       "      <td>0</td>\n",
       "      <td>0</td>\n",
       "      <td>NaN</td>\n",
       "    </tr>\n",
       "    <tr>\n",
       "      <th>1</th>\n",
       "      <td>2020-02-24T18:00:00</td>\n",
       "      <td>ITA</td>\n",
       "      <td>17</td>\n",
       "      <td>Basilicata</td>\n",
       "      <td>40.639471</td>\n",
       "      <td>15.805148</td>\n",
       "      <td>0</td>\n",
       "      <td>0</td>\n",
       "      <td>0</td>\n",
       "      <td>0</td>\n",
       "      <td>0</td>\n",
       "      <td>0</td>\n",
       "      <td>0</td>\n",
       "      <td>0</td>\n",
       "      <td>0</td>\n",
       "      <td>NaN</td>\n",
       "    </tr>\n",
       "    <tr>\n",
       "      <th>2</th>\n",
       "      <td>2020-02-24T18:00:00</td>\n",
       "      <td>ITA</td>\n",
       "      <td>18</td>\n",
       "      <td>Calabria</td>\n",
       "      <td>38.905976</td>\n",
       "      <td>16.594402</td>\n",
       "      <td>0</td>\n",
       "      <td>0</td>\n",
       "      <td>0</td>\n",
       "      <td>0</td>\n",
       "      <td>0</td>\n",
       "      <td>0</td>\n",
       "      <td>0</td>\n",
       "      <td>0</td>\n",
       "      <td>0</td>\n",
       "      <td>NaN</td>\n",
       "    </tr>\n",
       "    <tr>\n",
       "      <th>3</th>\n",
       "      <td>2020-02-24T18:00:00</td>\n",
       "      <td>ITA</td>\n",
       "      <td>15</td>\n",
       "      <td>Campania</td>\n",
       "      <td>40.839566</td>\n",
       "      <td>14.250850</td>\n",
       "      <td>0</td>\n",
       "      <td>0</td>\n",
       "      <td>0</td>\n",
       "      <td>0</td>\n",
       "      <td>0</td>\n",
       "      <td>0</td>\n",
       "      <td>0</td>\n",
       "      <td>0</td>\n",
       "      <td>0</td>\n",
       "      <td>NaN</td>\n",
       "    </tr>\n",
       "    <tr>\n",
       "      <th>4</th>\n",
       "      <td>2020-02-24T18:00:00</td>\n",
       "      <td>ITA</td>\n",
       "      <td>8</td>\n",
       "      <td>Emilia-Romagna</td>\n",
       "      <td>44.494367</td>\n",
       "      <td>11.341721</td>\n",
       "      <td>10</td>\n",
       "      <td>2</td>\n",
       "      <td>12</td>\n",
       "      <td>6</td>\n",
       "      <td>18</td>\n",
       "      <td>18</td>\n",
       "      <td>0</td>\n",
       "      <td>0</td>\n",
       "      <td>18</td>\n",
       "      <td>NaN</td>\n",
       "    </tr>\n",
       "  </tbody>\n",
       "</table>\n",
       "</div>"
      ],
      "text/plain": [
       "                    Date Country  RegionCode      RegionName   Latitude  \\\n",
       "SNo                                                                       \n",
       "0    2020-02-24T18:00:00     ITA          13         Abruzzo  42.351222   \n",
       "1    2020-02-24T18:00:00     ITA          17      Basilicata  40.639471   \n",
       "2    2020-02-24T18:00:00     ITA          18        Calabria  38.905976   \n",
       "3    2020-02-24T18:00:00     ITA          15        Campania  40.839566   \n",
       "4    2020-02-24T18:00:00     ITA           8  Emilia-Romagna  44.494367   \n",
       "\n",
       "     Longitude  HospitalizedPatients  IntensiveCarePatients  \\\n",
       "SNo                                                           \n",
       "0    13.398438                     0                      0   \n",
       "1    15.805148                     0                      0   \n",
       "2    16.594402                     0                      0   \n",
       "3    14.250850                     0                      0   \n",
       "4    11.341721                    10                      2   \n",
       "\n",
       "     TotalHospitalizedPatients  HomeConfinement  CurrentPositiveCases  \\\n",
       "SNo                                                                     \n",
       "0                            0                0                     0   \n",
       "1                            0                0                     0   \n",
       "2                            0                0                     0   \n",
       "3                            0                0                     0   \n",
       "4                           12                6                    18   \n",
       "\n",
       "     NewPositiveCases  Recovered  Deaths  TotalPositiveCases  TestsPerformed  \n",
       "SNo                                                                           \n",
       "0                   0          0       0                   0             NaN  \n",
       "1                   0          0       0                   0             NaN  \n",
       "2                   0          0       0                   0             NaN  \n",
       "3                   0          0       0                   0             NaN  \n",
       "4                  18          0       0                  18             NaN  "
      ]
     },
     "execution_count": 16,
     "metadata": {},
     "output_type": "execute_result"
    }
   ],
   "source": [
    "#a. first 5 rows\n",
    "it_covid19.head()"
   ]
  },
  {
   "cell_type": "code",
   "execution_count": 17,
   "id": "fbbf6dbd-2ae6-4cb4-ba87-f1df9a3393d3",
   "metadata": {},
   "outputs": [
    {
     "name": "stdout",
     "output_type": "stream",
     "text": [
      "<class 'pandas.core.frame.DataFrame'>\n",
      "Index: 6027 entries, 0 to 6026\n",
      "Data columns (total 16 columns):\n",
      " #   Column                     Non-Null Count  Dtype  \n",
      "---  ------                     --------------  -----  \n",
      " 0   Date                       6027 non-null   object \n",
      " 1   Country                    6027 non-null   object \n",
      " 2   RegionCode                 6027 non-null   int64  \n",
      " 3   RegionName                 6027 non-null   object \n",
      " 4   Latitude                   6027 non-null   float64\n",
      " 5   Longitude                  6027 non-null   float64\n",
      " 6   HospitalizedPatients       6027 non-null   int64  \n",
      " 7   IntensiveCarePatients      6027 non-null   int64  \n",
      " 8   TotalHospitalizedPatients  6027 non-null   int64  \n",
      " 9   HomeConfinement            6027 non-null   int64  \n",
      " 10  CurrentPositiveCases       6027 non-null   int64  \n",
      " 11  NewPositiveCases           6027 non-null   int64  \n",
      " 12  Recovered                  6027 non-null   int64  \n",
      " 13  Deaths                     6027 non-null   int64  \n",
      " 14  TotalPositiveCases         6027 non-null   int64  \n",
      " 15  TestsPerformed             4872 non-null   float64\n",
      "dtypes: float64(3), int64(10), object(3)\n",
      "memory usage: 800.5+ KB\n"
     ]
    }
   ],
   "source": [
    "#b. table of column names and non-null entries per column\n",
    "it_covid19.info()"
   ]
  },
  {
   "cell_type": "code",
   "execution_count": 18,
   "id": "cfd100bd-c542-46c8-96d3-70d4992b4599",
   "metadata": {},
   "outputs": [
    {
     "data": {
      "text/plain": [
       "Date                          287\n",
       "Country                         1\n",
       "RegionCode                     21\n",
       "RegionName                     21\n",
       "Latitude                       21\n",
       "Longitude                      21\n",
       "HospitalizedPatients         1451\n",
       "IntensiveCarePatients         462\n",
       "TotalHospitalizedPatients    1515\n",
       "HomeConfinement              3211\n",
       "CurrentPositiveCases         3358\n",
       "NewPositiveCases             1086\n",
       "Recovered                    4128\n",
       "Deaths                       1998\n",
       "TotalPositiveCases           4644\n",
       "TestsPerformed               4835\n",
       "dtype: int64"
      ]
     },
     "execution_count": 18,
     "metadata": {},
     "output_type": "execute_result"
    }
   ],
   "source": [
    "#c. number of unique values per column\n",
    "it_covid19.nunique()"
   ]
  },
  {
   "cell_type": "code",
   "execution_count": 19,
   "id": "affb34e5-3f76-4a8b-8fd0-a0a19008ffd8",
   "metadata": {},
   "outputs": [
    {
     "data": {
      "text/html": [
       "<div>\n",
       "<style scoped>\n",
       "    .dataframe tbody tr th:only-of-type {\n",
       "        vertical-align: middle;\n",
       "    }\n",
       "\n",
       "    .dataframe tbody tr th {\n",
       "        vertical-align: top;\n",
       "    }\n",
       "\n",
       "    .dataframe thead th {\n",
       "        text-align: right;\n",
       "    }\n",
       "</style>\n",
       "<table border=\"1\" class=\"dataframe\">\n",
       "  <thead>\n",
       "    <tr style=\"text-align: right;\">\n",
       "      <th></th>\n",
       "      <th>HospitalizedPatients</th>\n",
       "      <th>IntensiveCarePatients</th>\n",
       "      <th>TotalHospitalizedPatients</th>\n",
       "      <th>HomeConfinement</th>\n",
       "      <th>CurrentPositiveCases</th>\n",
       "      <th>NewPositiveCases</th>\n",
       "      <th>Recovered</th>\n",
       "      <th>Deaths</th>\n",
       "      <th>TotalPositiveCases</th>\n",
       "      <th>TestsPerformed</th>\n",
       "    </tr>\n",
       "  </thead>\n",
       "  <tbody>\n",
       "    <tr>\n",
       "      <th>count</th>\n",
       "      <td>6027.000000</td>\n",
       "      <td>6027.000000</td>\n",
       "      <td>6027.000000</td>\n",
       "      <td>6027.000000</td>\n",
       "      <td>6027.000000</td>\n",
       "      <td>6027.000000</td>\n",
       "      <td>6027.000000</td>\n",
       "      <td>6027.000000</td>\n",
       "      <td>6027.00000</td>\n",
       "      <td>4.872000e+03</td>\n",
       "    </tr>\n",
       "    <tr>\n",
       "      <th>mean</th>\n",
       "      <td>509.093579</td>\n",
       "      <td>55.892318</td>\n",
       "      <td>564.985897</td>\n",
       "      <td>5722.911399</td>\n",
       "      <td>6287.897296</td>\n",
       "      <td>286.885847</td>\n",
       "      <td>9337.852829</td>\n",
       "      <td>1474.370665</td>\n",
       "      <td>17100.12361</td>\n",
       "      <td>2.600810e+05</td>\n",
       "    </tr>\n",
       "    <tr>\n",
       "      <th>std</th>\n",
       "      <td>1272.731157</td>\n",
       "      <td>134.957979</td>\n",
       "      <td>1403.362341</td>\n",
       "      <td>15892.768789</td>\n",
       "      <td>16804.884786</td>\n",
       "      <td>818.450458</td>\n",
       "      <td>20551.265039</td>\n",
       "      <td>3365.190225</td>\n",
       "      <td>36934.67627</td>\n",
       "      <td>3.339818e+05</td>\n",
       "    </tr>\n",
       "    <tr>\n",
       "      <th>min</th>\n",
       "      <td>0.000000</td>\n",
       "      <td>0.000000</td>\n",
       "      <td>0.000000</td>\n",
       "      <td>0.000000</td>\n",
       "      <td>0.000000</td>\n",
       "      <td>-229.000000</td>\n",
       "      <td>0.000000</td>\n",
       "      <td>0.000000</td>\n",
       "      <td>0.00000</td>\n",
       "      <td>3.482000e+03</td>\n",
       "    </tr>\n",
       "    <tr>\n",
       "      <th>25%</th>\n",
       "      <td>16.000000</td>\n",
       "      <td>1.000000</td>\n",
       "      <td>17.000000</td>\n",
       "      <td>139.000000</td>\n",
       "      <td>168.000000</td>\n",
       "      <td>4.000000</td>\n",
       "      <td>734.000000</td>\n",
       "      <td>98.000000</td>\n",
       "      <td>1383.50000</td>\n",
       "      <td>6.507375e+04</td>\n",
       "    </tr>\n",
       "    <tr>\n",
       "      <th>50%</th>\n",
       "      <td>93.000000</td>\n",
       "      <td>9.000000</td>\n",
       "      <td>106.000000</td>\n",
       "      <td>743.000000</td>\n",
       "      <td>905.000000</td>\n",
       "      <td>31.000000</td>\n",
       "      <td>2840.000000</td>\n",
       "      <td>389.000000</td>\n",
       "      <td>4613.00000</td>\n",
       "      <td>1.365560e+05</td>\n",
       "    </tr>\n",
       "    <tr>\n",
       "      <th>75%</th>\n",
       "      <td>384.500000</td>\n",
       "      <td>46.000000</td>\n",
       "      <td>434.000000</td>\n",
       "      <td>3057.000000</td>\n",
       "      <td>3735.000000</td>\n",
       "      <td>159.500000</td>\n",
       "      <td>8450.500000</td>\n",
       "      <td>1102.500000</td>\n",
       "      <td>15304.00000</td>\n",
       "      <td>3.043542e+05</td>\n",
       "    </tr>\n",
       "    <tr>\n",
       "      <th>max</th>\n",
       "      <td>12077.000000</td>\n",
       "      <td>1381.000000</td>\n",
       "      <td>13328.000000</td>\n",
       "      <td>155066.000000</td>\n",
       "      <td>164406.000000</td>\n",
       "      <td>11489.000000</td>\n",
       "      <td>289706.000000</td>\n",
       "      <td>23024.000000</td>\n",
       "      <td>429109.00000</td>\n",
       "      <td>2.415099e+06</td>\n",
       "    </tr>\n",
       "  </tbody>\n",
       "</table>\n",
       "</div>"
      ],
      "text/plain": [
       "       HospitalizedPatients  IntensiveCarePatients  TotalHospitalizedPatients  \\\n",
       "count           6027.000000            6027.000000                6027.000000   \n",
       "mean             509.093579              55.892318                 564.985897   \n",
       "std             1272.731157             134.957979                1403.362341   \n",
       "min                0.000000               0.000000                   0.000000   \n",
       "25%               16.000000               1.000000                  17.000000   \n",
       "50%               93.000000               9.000000                 106.000000   \n",
       "75%              384.500000              46.000000                 434.000000   \n",
       "max            12077.000000            1381.000000               13328.000000   \n",
       "\n",
       "       HomeConfinement  CurrentPositiveCases  NewPositiveCases      Recovered  \\\n",
       "count      6027.000000           6027.000000       6027.000000    6027.000000   \n",
       "mean       5722.911399           6287.897296        286.885847    9337.852829   \n",
       "std       15892.768789          16804.884786        818.450458   20551.265039   \n",
       "min           0.000000              0.000000       -229.000000       0.000000   \n",
       "25%         139.000000            168.000000          4.000000     734.000000   \n",
       "50%         743.000000            905.000000         31.000000    2840.000000   \n",
       "75%        3057.000000           3735.000000        159.500000    8450.500000   \n",
       "max      155066.000000         164406.000000      11489.000000  289706.000000   \n",
       "\n",
       "             Deaths  TotalPositiveCases  TestsPerformed  \n",
       "count   6027.000000          6027.00000    4.872000e+03  \n",
       "mean    1474.370665         17100.12361    2.600810e+05  \n",
       "std     3365.190225         36934.67627    3.339818e+05  \n",
       "min        0.000000             0.00000    3.482000e+03  \n",
       "25%       98.000000          1383.50000    6.507375e+04  \n",
       "50%      389.000000          4613.00000    1.365560e+05  \n",
       "75%     1102.500000         15304.00000    3.043542e+05  \n",
       "max    23024.000000        429109.00000    2.415099e+06  "
      ]
     },
     "execution_count": 19,
     "metadata": {},
     "output_type": "execute_result"
    }
   ],
   "source": [
    "#d. table of summary statistics\n",
    "it_covid19[it_covid19.columns[6:]].describe()"
   ]
  },
  {
   "cell_type": "markdown",
   "id": "662390e8-99f8-49a8-8987-4ec99d810833",
   "metadata": {},
   "source": [
    "\n",
    "8. As you can see from the previous question, there is only 1 value in the `Country` column, and you can safely assume the `RegionCode`, `RegionName`, `Latitude`, and `Longitude` columns are degenerate. **Drop the `Country`, `RegionCode`, `Latitude`, and `Longitude` columns from `it_covid19`, all in-place, but keep the `RegionName` column.** Make sure you specify the right axis when you drop!"
   ]
  },
  {
   "cell_type": "code",
   "execution_count": 42,
   "id": "a01c5a6b-1fa3-4335-a946-787dedf7e237",
   "metadata": {},
   "outputs": [],
   "source": [
    "#8.\n",
    "it_covid19.drop(['Country', 'RegionCode', 'Latitude','Longitude'], axis=1, inplace=True)"
   ]
  },
  {
   "cell_type": "code",
   "execution_count": 44,
   "id": "34ddab30-d9cd-4fa7-adbc-6dbd75dc56db",
   "metadata": {},
   "outputs": [
    {
     "data": {
      "text/html": [
       "<div>\n",
       "<style scoped>\n",
       "    .dataframe tbody tr th:only-of-type {\n",
       "        vertical-align: middle;\n",
       "    }\n",
       "\n",
       "    .dataframe tbody tr th {\n",
       "        vertical-align: top;\n",
       "    }\n",
       "\n",
       "    .dataframe thead th {\n",
       "        text-align: right;\n",
       "    }\n",
       "</style>\n",
       "<table border=\"1\" class=\"dataframe\">\n",
       "  <thead>\n",
       "    <tr style=\"text-align: right;\">\n",
       "      <th></th>\n",
       "      <th>Date</th>\n",
       "      <th>RegionName</th>\n",
       "      <th>HospitalizedPatients</th>\n",
       "      <th>IntensiveCarePatients</th>\n",
       "      <th>TotalHospitalizedPatients</th>\n",
       "      <th>HomeConfinement</th>\n",
       "      <th>CurrentPositiveCases</th>\n",
       "      <th>NewPositiveCases</th>\n",
       "      <th>Recovered</th>\n",
       "      <th>Deaths</th>\n",
       "      <th>TotalPositiveCases</th>\n",
       "      <th>TestsPerformed</th>\n",
       "    </tr>\n",
       "    <tr>\n",
       "      <th>SNo</th>\n",
       "      <th></th>\n",
       "      <th></th>\n",
       "      <th></th>\n",
       "      <th></th>\n",
       "      <th></th>\n",
       "      <th></th>\n",
       "      <th></th>\n",
       "      <th></th>\n",
       "      <th></th>\n",
       "      <th></th>\n",
       "      <th></th>\n",
       "      <th></th>\n",
       "    </tr>\n",
       "  </thead>\n",
       "  <tbody>\n",
       "    <tr>\n",
       "      <th>6022</th>\n",
       "      <td>2020-12-06T17:00:00</td>\n",
       "      <td>Sicilia</td>\n",
       "      <td>1367</td>\n",
       "      <td>213</td>\n",
       "      <td>1580</td>\n",
       "      <td>38166</td>\n",
       "      <td>39746</td>\n",
       "      <td>1022</td>\n",
       "      <td>29984</td>\n",
       "      <td>1759</td>\n",
       "      <td>71489</td>\n",
       "      <td>692062.0</td>\n",
       "    </tr>\n",
       "    <tr>\n",
       "      <th>6023</th>\n",
       "      <td>2020-12-06T17:00:00</td>\n",
       "      <td>Toscana</td>\n",
       "      <td>1360</td>\n",
       "      <td>252</td>\n",
       "      <td>1612</td>\n",
       "      <td>27587</td>\n",
       "      <td>29199</td>\n",
       "      <td>753</td>\n",
       "      <td>76331</td>\n",
       "      <td>2867</td>\n",
       "      <td>108397</td>\n",
       "      <td>983103.0</td>\n",
       "    </tr>\n",
       "    <tr>\n",
       "      <th>6024</th>\n",
       "      <td>2020-12-06T17:00:00</td>\n",
       "      <td>Umbria</td>\n",
       "      <td>332</td>\n",
       "      <td>60</td>\n",
       "      <td>392</td>\n",
       "      <td>5673</td>\n",
       "      <td>6065</td>\n",
       "      <td>234</td>\n",
       "      <td>18619</td>\n",
       "      <td>460</td>\n",
       "      <td>25144</td>\n",
       "      <td>231538.0</td>\n",
       "    </tr>\n",
       "    <tr>\n",
       "      <th>6025</th>\n",
       "      <td>2020-12-06T17:00:00</td>\n",
       "      <td>Valle d'Aosta</td>\n",
       "      <td>102</td>\n",
       "      <td>8</td>\n",
       "      <td>110</td>\n",
       "      <td>877</td>\n",
       "      <td>987</td>\n",
       "      <td>34</td>\n",
       "      <td>5406</td>\n",
       "      <td>333</td>\n",
       "      <td>6726</td>\n",
       "      <td>34644.0</td>\n",
       "    </tr>\n",
       "    <tr>\n",
       "      <th>6026</th>\n",
       "      <td>2020-12-06T17:00:00</td>\n",
       "      <td>Veneto</td>\n",
       "      <td>2508</td>\n",
       "      <td>308</td>\n",
       "      <td>2816</td>\n",
       "      <td>73988</td>\n",
       "      <td>76804</td>\n",
       "      <td>3444</td>\n",
       "      <td>84235</td>\n",
       "      <td>4210</td>\n",
       "      <td>165249</td>\n",
       "      <td>1090932.0</td>\n",
       "    </tr>\n",
       "  </tbody>\n",
       "</table>\n",
       "</div>"
      ],
      "text/plain": [
       "                     Date     RegionName  HospitalizedPatients  \\\n",
       "SNo                                                              \n",
       "6022  2020-12-06T17:00:00        Sicilia                  1367   \n",
       "6023  2020-12-06T17:00:00        Toscana                  1360   \n",
       "6024  2020-12-06T17:00:00         Umbria                   332   \n",
       "6025  2020-12-06T17:00:00  Valle d'Aosta                   102   \n",
       "6026  2020-12-06T17:00:00         Veneto                  2508   \n",
       "\n",
       "      IntensiveCarePatients  TotalHospitalizedPatients  HomeConfinement  \\\n",
       "SNo                                                                       \n",
       "6022                    213                       1580            38166   \n",
       "6023                    252                       1612            27587   \n",
       "6024                     60                        392             5673   \n",
       "6025                      8                        110              877   \n",
       "6026                    308                       2816            73988   \n",
       "\n",
       "      CurrentPositiveCases  NewPositiveCases  Recovered  Deaths  \\\n",
       "SNo                                                               \n",
       "6022                 39746              1022      29984    1759   \n",
       "6023                 29199               753      76331    2867   \n",
       "6024                  6065               234      18619     460   \n",
       "6025                   987                34       5406     333   \n",
       "6026                 76804              3444      84235    4210   \n",
       "\n",
       "      TotalPositiveCases  TestsPerformed  \n",
       "SNo                                       \n",
       "6022               71489        692062.0  \n",
       "6023              108397        983103.0  \n",
       "6024               25144        231538.0  \n",
       "6025                6726         34644.0  \n",
       "6026              165249       1090932.0  "
      ]
     },
     "execution_count": 44,
     "metadata": {},
     "output_type": "execute_result"
    }
   ],
   "source": [
    "#print tail to check\n",
    "it_covid19.tail()"
   ]
  },
  {
   "cell_type": "markdown",
   "id": "b7234702-7237-4005-9346-ded7debadf08",
   "metadata": {},
   "source": [
    "### Joining and Merging\n",
    "Let's take a quick break from COVID19 data to practice some joining and merging. I'll initialized a couple of DataFrames for you (Easter Egg: look up \"porters lake this street\"):"
   ]
  },
  {
   "cell_type": "code",
   "execution_count": 19,
   "id": "d50bc273-a0d2-41cf-b660-150b1d317207",
   "metadata": {},
   "outputs": [],
   "source": [
    "demo1 = pd.DataFrame([['Ali', '6 This St', 'Porters Lake', 8675309],\n",
    "                      ['Erin', '48 That St', 'Porters Lake', 2244667],\n",
    "                      ['Rick', '19 The Other St', 'Porters Lake', 1234567],\n",
    "                      ['Summer', '55 Post Office Rd', 'Porters Lake', 8772274]],\n",
    "                      columns = ['name','addr', 'city', 'tele'])\n",
    "demo2 = pd.DataFrame([['Ali', 'veterinarian', 'Porters Lake'],\n",
    "                      ['Erin', 'lawyer', 'Porters Lake'],\n",
    "                      ['Summer', 'mail carrier', 'Porters Lake'],\n",
    "                      ['Larry', 'programmer', 'Mineville'],\n",
    "                      ['Moe', 'grocer', 'Mineville']],\n",
    "                      columns = ['name', 'job','city'])"
   ]
  },
  {
   "cell_type": "markdown",
   "id": "974fc763-8a82-4dd9-8633-e7422e52baf1",
   "metadata": {},
   "source": [
    "9. **Combine the 2 DataFrames above in the following ways:**\n",
    "\n",
    "   a. Print the result of an *inner* merge. Use the `on` kwarg to eliminate duplicates of `'name'` and `'city'`.\n",
    "   \n",
    "   b. Once you have a working version of part *a*, change `'inner'` to `'outer'` and see what happens.\n",
    "\n",
    "   c. Use `.combine_first()` to reproduce the results of the outer merge from part *b*. The results don't have to be in the same order, but you could use `.reindex()` to get the original column order back."
   ]
  },
  {
   "cell_type": "code",
   "execution_count": 26,
   "id": "e4a56557-0a6c-4556-bdbe-078b3bfecb21",
   "metadata": {},
   "outputs": [
    {
     "name": "stdout",
     "output_type": "stream",
     "text": [
      "     name               addr          city       tele           job\n",
      "0     Ali          6 This St  Porters Lake  8675309.0  veterinarian\n",
      "1    Erin         48 That St  Porters Lake  2244667.0        lawyer\n",
      "2   Larry                NaN     Mineville        NaN    programmer\n",
      "3     Moe                NaN     Mineville        NaN        grocer\n",
      "4    Rick    19 The Other St  Porters Lake  1234567.0           NaN\n",
      "5  Summer  55 Post Office Rd  Porters Lake  8772274.0  mail carrier\n"
     ]
    }
   ],
   "source": [
    "#a. & b.\n",
    "print(demo1.merge(demo2, on=['name','city'], how='outer'))"
   ]
  },
  {
   "cell_type": "code",
   "execution_count": 21,
   "id": "30213830-ec6f-499f-87b6-2467fc2fdf55",
   "metadata": {},
   "outputs": [
    {
     "name": "stdout",
     "output_type": "stream",
     "text": [
      "     name               addr          city       tele           job\n",
      "0     Ali          6 This St  Porters Lake  8675309.0  veterinarian\n",
      "1    Erin         48 That St  Porters Lake  2244667.0        lawyer\n",
      "2    Rick    19 The Other St  Porters Lake  1234567.0  mail carrier\n",
      "3  Summer  55 Post Office Rd  Porters Lake  8772274.0    programmer\n",
      "4     Moe                NaN     Mineville        NaN        grocer\n"
     ]
    }
   ],
   "source": [
    "#c.\n",
    "print(demo1.combine_first(demo2).reindex(columns=list(demo1.columns.values)+['job']))"
   ]
  },
  {
   "cell_type": "markdown",
   "id": "bc056a64-0550-44f1-9273-7d77b90b9f34",
   "metadata": {},
   "source": [
    "### Functions and GroupBy Methods with Real Data\n",
    "\n",
    "The DataFrame from questions 6-8 just lists raw counts of COVID19 by Italian administrative region, but for epidemiology, it's usually more helpful to have counts *per capita*.\n",
    "\n",
    "10. To start you off with something easy, **the cumulative number of cases in Italy as of the last date in the `it_covid19` DataFrame, 2020-12-06, was 1,747,712** (or 1.747.712 if you're used to decimal thousands separators). **Compute a running percentage of the year's national total in each region by dividing the `TotalPositiveCases` column by the national total for the year, and multiplying that result by 100. Store the result in a column called `RunPctTot` or some other indicative title.**"
   ]
  },
  {
   "cell_type": "code",
   "execution_count": 30,
   "id": "d43aa0ac-0cd3-4a11-b5c9-546299d8d353",
   "metadata": {},
   "outputs": [],
   "source": [
    "#10.\n",
    "it_covid19['RunPctTot'] = it_covid19['TotalPositiveCases']*100/1747712"
   ]
  },
  {
   "cell_type": "markdown",
   "id": "7f02139f-5177-4691-bc20-b0f122d8473b",
   "metadata": {},
   "source": [
    "11. **Group `it_covid19` by `'RegionName'`, and check the maximum values of the `'RunPctTot'` column** (which will also be the last value for each region in the year because `TotalPositiveCases` was cumulative). **Which region accounted for the largest percentage of cases in the country?**"
   ]
  },
  {
   "cell_type": "code",
   "execution_count": 32,
   "id": "98cdbea5-4a78-44b6-90ad-59fd322c5d55",
   "metadata": {},
   "outputs": [
    {
     "name": "stdout",
     "output_type": "stream",
     "text": [
      "RegionName\n",
      "Abruzzo                   1.732208\n",
      "Basilicata                0.511526\n",
      "Calabria                  1.060644\n",
      "Campania                  9.457680\n",
      "Emilia-Romagna            7.653492\n",
      "Friuli Venezia Giulia     2.029339\n",
      "Lazio                     7.452887\n",
      "Liguria                   3.077109\n",
      "Lombardia                24.552615\n",
      "Marche                    1.853452\n",
      "Molise                    0.302453\n",
      "P.A. Bolzano              1.451097\n",
      "P.A. Trento               0.978594\n",
      "Piemonte                 10.172614\n",
      "Puglia                    3.681442\n",
      "Sardegna                  1.383866\n",
      "Sicilia                   4.090434\n",
      "Toscana                   6.202223\n",
      "Umbria                    1.438681\n",
      "Valle d'Aosta             0.384846\n",
      "Veneto                    9.455162\n",
      "Name: RunPctTot, dtype: float64\n"
     ]
    }
   ],
   "source": [
    "#11.\n",
    "grp_it_covid19=it_covid19.groupby('RegionName')\n",
    "print(grp_it_covid19['RunPctTot'].max())"
   ]
  },
  {
   "cell_type": "markdown",
   "id": "25ef0d91-1599-47fc-88e0-9c7e6e31a49a",
   "metadata": {},
   "source": [
    "For the next few exercises, I have provided a tab-separated text table of the regions of Italy, their March 2020 populations (except P. A. Trento and Bolzano, whose numbers are from 2021), and population densities. Getting time-resolved population data was more trouble than these exercises warrant, so this won't be very scientific, but you will get some (more) experience with the `groupby()`, `compare()`, and `apply()` methods.\n",
    " \n",
    "12. **Load the file `'ita_pop_by_reg.txt'` with `read_csv()` (note that the delimiters in this text file are tabs, not commas) into a variable called `it_pop`.** Don't set anything as the Index yet. **Then, get the unique values of the `'RegionName'` column of the `it_covid19` DataFrame, convert them to a Series, and `compare` them to the Region column of the table you just loaded** (this whole sentence's worth of instructions can be done in one line). **Are they identical?**"
   ]
  },
  {
   "cell_type": "code",
   "execution_count": 34,
   "id": "f3010eca-fb4e-4bb9-911c-c7a927082877",
   "metadata": {},
   "outputs": [
    {
     "name": "stdout",
     "output_type": "stream",
     "text": [
      "                   Region  2020_mar_pop  pop_density_sq_km\n",
      "0                 Abruzzo       1292126                118\n",
      "1              Basilicata        552084                 54\n",
      "2                Calabria       1890094                121\n",
      "3                Campania       5704571                409\n",
      "4          Emilia-Romagna       4464643                197\n",
      "5   Friuli-Venezia Giulia       1204970                151\n",
      "6                   Lazio       5750888                332\n",
      "7                 Liguria       1523084                278\n",
      "8               Lombardia      10026900                418\n",
      "9                  Marche       1510898                158\n",
      "10                 Molise        299563                 65\n",
      "11          P. A. Bolzano        531178                 72\n",
      "12           P. A. Trento        541098                 87\n",
      "13               Piemonte       4308215                168\n",
      "14                 Puglia       3947623                200\n",
      "15               Sardegna       1609313                 66\n",
      "16                Sicilia       4866505                186\n",
      "17                Toscana       3689590                160\n",
      "18                 Umbria        869169                102\n",
      "19          Valle d'Aosta        124830                 38\n",
      "20                 Veneto       4876121                265\n"
     ]
    }
   ],
   "source": [
    "#12-a.\n",
    "#it_covid19['RegionName'].unique()\n",
    "it_pop = pd.read_csv('ita_pop_by_reg.txt', sep='\\t')\n",
    "print(it_pop)"
   ]
  },
  {
   "cell_type": "code",
   "execution_count": 35,
   "id": "2327839a-99e0-4df3-9b8f-36ebeae620f2",
   "metadata": {},
   "outputs": [
    {
     "name": "stdout",
     "output_type": "stream",
     "text": [
      "                     self                  other\n",
      "5   Friuli-Venezia Giulia  Friuli Venezia Giulia\n",
      "11          P. A. Bolzano           P.A. Bolzano\n",
      "12           P. A. Trento            P.A. Trento\n"
     ]
    }
   ],
   "source": [
    "#12-b.\n",
    "print(it_pop['Region'].compare(pd.Series(it_covid19['RegionName'].unique())))"
   ]
  },
  {
   "cell_type": "markdown",
   "id": "ca2377fd-eab5-42c1-b5c6-40fc31713752",
   "metadata": {},
   "source": [
    "13. As you probably just saw, there are some annoyingly subtle differences in spacing and/or punctuation between the names of 3 of the regions in each DataFrame. **Use string vectorization to `replace` the relevant cells in your choice of one or the other DataFrame. Then rerun the `compare()` command above and make sure it comes back empty.** (Hint: there's a reason I typeset \"replace\" as code.)"
   ]
  },
  {
   "cell_type": "code",
   "execution_count": 37,
   "id": "77aaa363-0f31-4416-a73c-c5f6edac3aee",
   "metadata": {},
   "outputs": [
    {
     "name": "stdout",
     "output_type": "stream",
     "text": [
      "Empty DataFrame\n",
      "Columns: [self, other]\n",
      "Index: []\n"
     ]
    }
   ],
   "source": [
    "#13.\n",
    "it_covid19['RegionName']=it_covid19['RegionName'].str.replace('Friuli Venezia Giulia',\n",
    "                                                              'Friuli-Venezia Giulia'\n",
    "                                                             ).str.replace('P.A.', 'P. A.')\n",
    "print(it_pop['Region'].compare(pd.Series(it_covid19['RegionName'].unique())))"
   ]
  },
  {
   "cell_type": "markdown",
   "id": "a0a9380f-ea00-40c5-942d-41f6b23456dd",
   "metadata": {},
   "source": [
    "14. **Use `.div()` (or `.rdiv()`) and `.mul()` to compute the percentage of `'TotalPositiveCases'` that are `'Recovered'` in a region at any one time, and assign the result to a column called `'RecoveredPct'`.** For now, use the original `it_covid19` DataFrame, not the GroupBy object."
   ]
  },
  {
   "cell_type": "code",
   "execution_count": 39,
   "id": "08aa40cd-c6e4-4f55-a62b-c9ff52bfb72d",
   "metadata": {},
   "outputs": [
    {
     "name": "stdout",
     "output_type": "stream",
     "text": [
      "SNo\n",
      "6022    41.942117\n",
      "6023    70.418000\n",
      "6024    74.049475\n",
      "6025    80.374665\n",
      "6026    50.974590\n",
      "Name: RecoveryPct, dtype: float64\n"
     ]
    }
   ],
   "source": [
    "#14\n",
    "it_covid19['RecoveryPct']=it_covid19['TotalPositiveCases'].rdiv(it_covid19['Recovered']).mul(100.)\n",
    "print(it_covid19['RecoveryPct'].tail())"
   ]
  },
  {
   "cell_type": "markdown",
   "id": "10a45535-a342-4efb-8feb-22a2fc8e6c11",
   "metadata": {},
   "source": [
    "15. **Using the `.apply()` function on the `it_covid19` DataFrame, divide the `'TotalPositiveCases'` column by the region's population to get an unadjusted cumulative per capita infection rate converted to a percentage. Set the result equal to a new column of DataFrame `it_covid19`, labelled `'TotCasesPct'` or something similarly informative.** You'll get to how you do this with the GroupBy object in a moment. Since this is a difficult problem for new users, I'll help you break it down a little:\n",
    "    \n",
    "    a. Start by setting the Region column of `it_pop` as the index of that DataFrame.\n",
    "    \n",
    "    b.  Define a function that **1)** takes in a row from a DataFrame (`it_covid19` in this case), **2)** extracts the value in the `'Region'` column, **3)** looks up the population in `it_pop` by this region, and **4)** returns the `'TotalPositiveCases'` entry divided by this population and then multiplied by 100.\n",
    "\n",
    "    c.  Define the new column as the original DataFrame with the function applied to it. [Consult the documentation](https://pandas.pydata.org/docs/reference/api/pandas.DataFrame.apply.html) to figure out which axis to apply the function to."
   ]
  },
  {
   "cell_type": "code",
   "execution_count": 41,
   "id": "49deeb70-6c5f-4a6e-9c33-b5ec2ee5fb69",
   "metadata": {},
   "outputs": [],
   "source": [
    "#15-a.\n",
    "it_pop.set_index('Region', inplace=True)"
   ]
  },
  {
   "cell_type": "code",
   "execution_count": 42,
   "id": "0a320328-e067-43fe-a92b-be1a5df0c929",
   "metadata": {},
   "outputs": [],
   "source": [
    "#15-b.\n",
    "def per_cap(row):\n",
    "    pop=it_pop.loc[row['RegionName'],'2020_mar_pop']\n",
    "    return (row['TotalPositiveCases']/pop)*100."
   ]
  },
  {
   "cell_type": "code",
   "execution_count": 43,
   "id": "b1849281-9d80-4e27-82fd-8e5d4030622b",
   "metadata": {},
   "outputs": [
    {
     "name": "stdout",
     "output_type": "stream",
     "text": [
      "SNo\n",
      "0       0.000000\n",
      "1       0.000000\n",
      "2       0.000000\n",
      "3       0.000000\n",
      "4       0.000403\n",
      "          ...   \n",
      "6022    1.469001\n",
      "6023    2.937915\n",
      "6024    2.892878\n",
      "6025    5.388128\n",
      "6026    3.388944\n",
      "Name: TotCasesPct, Length: 6027, dtype: float64\n"
     ]
    }
   ],
   "source": [
    "#15-c.\n",
    "it_covid19['TotCasesPct'] = it_covid19.apply(per_cap,axis=1)\n",
    "print(it_covid19['TotCasesPct'] )"
   ]
  },
  {
   "cell_type": "markdown",
   "id": "05ebaa0c-4757-4da1-a772-abe9a4a99b5f",
   "metadata": {},
   "source": [
    "16. **Now reformulate your solution to the previous problem to apply it to GroupBy object you made in problem 11. We will again use `.apply()` because the way `.transform()` receives GroupBy objects is incompatible with what we want to do** (I learned this the hard way). I'll have you fill in the blanks rather than write from scratch since it's even less intuitive. It's important that you have already set the Region as the index of the `it_pop` DataFrame."
   ]
  },
  {
   "cell_type": "code",
   "execution_count": 45,
   "id": "22b2e682-8370-4a86-8d28-ee622fd9ccd9",
   "metadata": {},
   "outputs": [],
   "source": [
    "#16-a.\n",
    "def grp_per_cap(group):\n",
    "    reg = group['RegionName'].iloc[0]\n",
    "    #index doesn't matter, all values are the same for a given group\n",
    "    pop=it_pop.loc[reg,'2020_mar_pop']\n",
    "    return (group['TotalPositiveCases']/pop)*100."
   ]
  },
  {
   "cell_type": "code",
   "execution_count": 98,
   "id": "ee4706fa-308d-4c5b-bbd2-c1d996c450a8",
   "metadata": {},
   "outputs": [
    {
     "data": {
      "text/plain": [
       "RegionName  SNo \n",
       "Abruzzo     0       0.000000\n",
       "            21      0.000000\n",
       "            42      0.000000\n",
       "            63      0.000077\n",
       "            84      0.000077\n",
       "                      ...   \n",
       "Veneto      5942    3.094858\n",
       "            5963    3.168297\n",
       "            5984    3.244341\n",
       "            6005    3.318314\n",
       "            6026    3.388944\n",
       "Name: TotalPositiveCases, Length: 6027, dtype: float64"
      ]
     },
     "execution_count": 98,
     "metadata": {},
     "output_type": "execute_result"
    }
   ],
   "source": [
    "#16-b #\n",
    "gptrans = grp_it_covid19[['RegionName', 'TotalPositiveCases']].apply(grp_per_cap)\n",
    "gptrans"
   ]
  },
  {
   "cell_type": "markdown",
   "id": "777a0bcd-074d-402b-8ea8-4c17330f34a9",
   "metadata": {},
   "source": [
    "### Plotting\n",
    "17. Let's take a closer look at Lombardia since it's the most populous region. We'll use it to make a couple of plots. **Get the Lombardia group from `grp_it_covid19` and**\n",
    "    \n",
    "    a. **Make a simple line plot of the `'NewPositiveCases'` column.** You can let the x-axis stay as the SNo, or use the Date column, but if you do the latter you'll have to convert the dates to datetime format in the original DataFrame and then redo the grouping or else the dates will be unreadable (see problem 18).\n",
    "\n",
    "    b. **Make an area plot with `'TotalPositiveCases'`, `'Recovered'`, and `'Deaths'`, in that order, using [the documentation on the area() function as a guide](https://pandas.pydata.org/pandas-docs/stable/reference/api/pandas.DataFrame.plot.area.html#pandas.DataFrame.plot.area)** (remember that you can pass multiple columns to the `y` kwarg). **Turn the stacking off.**"
   ]
  },
  {
   "cell_type": "code",
   "execution_count": 48,
   "id": "49bbf7d8-0a4c-47df-aee7-f12045b1c834",
   "metadata": {},
   "outputs": [
    {
     "data": {
      "text/plain": [
       "<Axes: xlabel='SNo'>"
      ]
     },
     "execution_count": 48,
     "metadata": {},
     "output_type": "execute_result"
    },
    {
     "data": {
      "image/png": "[encoded data removed]",
      "text/plain": [
       "<Figure size 640x480 with 1 Axes>"
      ]
     },
     "metadata": {},
     "output_type": "display_data"
    }
   ],
   "source": [
    "#17-a.\n",
    "grp_it_covid19.get_group('Lombardia').plot(y='NewPositiveCases')"
   ]
  },
  {
   "cell_type": "code",
   "execution_count": 49,
   "id": "0c918e8f-2dcf-4657-909e-817373f911c6",
   "metadata": {},
   "outputs": [
    {
     "data": {
      "text/plain": [
       "<Axes: xlabel='SNo'>"
      ]
     },
     "execution_count": 49,
     "metadata": {},
     "output_type": "execute_result"
    },
    {
     "data": {
      "image/png": "[encoded data removed]",
      "text/plain": [
       "<Figure size 640x480 with 1 Axes>"
      ]
     },
     "metadata": {},
     "output_type": "display_data"
    }
   ],
   "source": [
    "grp_it_covid19.get_group('Lombardia').plot(kind='area', y=['TotalPositiveCases','Recovered', 'Deaths'],\n",
    "                                          stacked=False, alpha=1)"
   ]
  },
  {
   "cell_type": "markdown",
   "id": "b9919ffe-b2f8-45b9-aaa8-e31806588c23",
   "metadata": {},
   "source": [
    "### Time Series (Do if time)\n",
    "\n",
    "18. **Convert the `Date` column of it_covid19 to datetime format.** If you print it, you will see that it assigns a time of `17:00:00` to every date. Don't worry about that; it's an artefact of Pandas originally being developed by and for economists."
   ]
  },
  {
   "cell_type": "code",
   "execution_count": 51,
   "id": "73ff7b7b-7e07-421a-8eca-6fd993076121",
   "metadata": {},
   "outputs": [],
   "source": [
    "#18.\n",
    "it_covid19['Date'] = pd.to_datetime(it_covid19['Date'])"
   ]
  },
  {
   "cell_type": "code",
   "execution_count": 52,
   "id": "c77879e1-92b9-4c31-83b6-ae7842edb966",
   "metadata": {},
   "outputs": [
    {
     "name": "stdout",
     "output_type": "stream",
     "text": [
      "                    Date     RegionName  HospitalizedPatients  \\\n",
      "SNo                                                             \n",
      "6022 2020-12-06 17:00:00        Sicilia                  1367   \n",
      "6023 2020-12-06 17:00:00        Toscana                  1360   \n",
      "6024 2020-12-06 17:00:00         Umbria                   332   \n",
      "6025 2020-12-06 17:00:00  Valle d'Aosta                   102   \n",
      "6026 2020-12-06 17:00:00         Veneto                  2508   \n",
      "\n",
      "      IntensiveCarePatients  TotalHospitalizedPatients  HomeConfinement  \\\n",
      "SNo                                                                       \n",
      "6022                    213                       1580            38166   \n",
      "6023                    252                       1612            27587   \n",
      "6024                     60                        392             5673   \n",
      "6025                      8                        110              877   \n",
      "6026                    308                       2816            73988   \n",
      "\n",
      "      CurrentPositiveCases  NewPositiveCases  Recovered  Deaths  \\\n",
      "SNo                                                               \n",
      "6022                 39746              1022      29984    1759   \n",
      "6023                 29199               753      76331    2867   \n",
      "6024                  6065               234      18619     460   \n",
      "6025                   987                34       5406     333   \n",
      "6026                 76804              3444      84235    4210   \n",
      "\n",
      "      TotalPositiveCases  TestsPerformed  RunPctTot  RecoveryPct  TotCasesPct  \n",
      "SNo                                                                            \n",
      "6022               71489        692062.0   4.090434    41.942117     1.469001  \n",
      "6023              108397        983103.0   6.202223    70.418000     2.937915  \n",
      "6024               25144        231538.0   1.438681    74.049475     2.892878  \n",
      "6025                6726         34644.0   0.384846    80.374665     5.388128  \n",
      "6026              165249       1090932.0   9.455162    50.974590     3.388944  \n"
     ]
    }
   ],
   "source": [
    "print(it_covid19.tail())"
   ]
  },
  {
   "cell_type": "markdown",
   "id": "ca57b1d1-e4b5-4ad7-8c11-76a3839a44e4",
   "metadata": {},
   "source": [
    "19. Now let's do some resampling.\n",
    "    \n",
    "   a. **To prepare, set the grouping of `it_covid19` on the `'RegionName'` column, get Lombardia again, and assign it to a new DataFrame with the `'Date'` column set as the index.**\n",
    "   \n",
    "   b. **Resample the `'NewPositiveCases'` column to weeks (`'W'`) and compute the weekly totals with the correct aggregate function.** Feel free to plot the results and see how much nicer the x axis looks with formatted datetimes."
   ]
  },
  {
   "cell_type": "code",
   "execution_count": 54,
   "id": "8afddc86-2673-4e60-81bf-02f2813f671d",
   "metadata": {},
   "outputs": [],
   "source": [
    "#19-a.\n",
    "grp_it_covid19=it_covid19.groupby('RegionName')\n",
    "lombardia_covid19 = grp_it_covid19.get_group('Lombardia').set_index('Date')"
   ]
  },
  {
   "cell_type": "code",
   "execution_count": 55,
   "id": "4ff8a75f-661d-4ac0-abb3-0f7c9684d2ec",
   "metadata": {},
   "outputs": [],
   "source": [
    "#19-b.\n",
    "npc_resam=lombardia_covid19['NewPositiveCases'].resample('W').sum()"
   ]
  },
  {
   "cell_type": "code",
   "execution_count": 56,
   "id": "2243e3cc-d5da-4b3d-9ffb-8a89e54cc4f7",
   "metadata": {},
   "outputs": [
    {
     "data": {
      "text/plain": [
       "<Axes: xlabel='Date'>"
      ]
     },
     "execution_count": 56,
     "metadata": {},
     "output_type": "execute_result"
    },
    {
     "data": {
      "image/png": "[encoded data removed]",
      "text/plain": [
       "<Figure size 640x480 with 1 Axes>"
      ]
     },
     "metadata": {},
     "output_type": "display_data"
    }
   ],
   "source": [
    "npc_resam.plot()"
   ]
  },
  {
   "cell_type": "markdown",
   "id": "71c6855e-a13b-42c4-8c94-044c950ce7cb",
   "metadata": {},
   "source": [
    "### BONUS: Categorical data and memory usage. \n",
    "20. **Compute the memory usage of the it_covid19 DataFrame's `'RegionName'` column before and after converting it to `Categorical` type.**"
   ]
  },
  {
   "cell_type": "code",
   "execution_count": 58,
   "id": "1e4b3e32-678e-4603-acb5-e1838da1f3c4",
   "metadata": {},
   "outputs": [
    {
     "data": {
      "text/plain": [
       "445424"
      ]
     },
     "execution_count": 58,
     "metadata": {},
     "output_type": "execute_result"
    }
   ],
   "source": [
    "it_covid19['RegionName'].memory_usage(deep=True)"
   ]
  },
  {
   "cell_type": "code",
   "execution_count": 59,
   "id": "4b0e5448-dcc0-486a-8487-47e2512e4103",
   "metadata": {},
   "outputs": [
    {
     "data": {
      "text/plain": [
       "56183"
      ]
     },
     "execution_count": 59,
     "metadata": {},
     "output_type": "execute_result"
    }
   ],
   "source": [
    "it_covid19['RegionName'].astype('category').memory_usage(deep=True)"
   ]
  },
  {
   "cell_type": "code",
   "execution_count": null,
   "id": "5ca28159-671f-420c-92a6-2d97a5d4b348",
   "metadata": {},
   "outputs": [],
   "source": []
  }
 ],
 "metadata": {
  "kernelspec": {
   "display_name": "Python 3 (ipykernel)",
   "language": "python",
   "name": "python3"
  },
  "language_info": {
   "codemirror_mode": {
    "name": "ipython",
    "version": 3
   },
   "file_extension": ".py",
   "mimetype": "text/x-python",
   "name": "python",
   "nbconvert_exporter": "python",
   "pygments_lexer": "ipython3",
   "version": "3.11.5"
  }
 },
 "nbformat": 4,
 "nbformat_minor": 5
}
